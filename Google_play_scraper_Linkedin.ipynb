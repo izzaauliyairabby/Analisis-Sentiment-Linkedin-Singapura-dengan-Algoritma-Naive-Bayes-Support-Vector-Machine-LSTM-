{
  "nbformat": 4,
  "nbformat_minor": 0,
  "metadata": {
    "colab": {
      "private_outputs": true,
      "provenance": []
    },
    "kernelspec": {
      "name": "python3",
      "display_name": "Python 3"
    },
    "language_info": {
      "name": "python"
    }
  },
  "cells": [
    {
      "cell_type": "markdown",
      "source": [
        "# Scraping Aplikasi Linkedin Singapura menggunakan Google-Play-Scraper"
      ],
      "metadata": {
        "id": "SwAWJI_ynLUq"
      }
    },
    {
      "cell_type": "code",
      "source": [
        "pd.set_option('display.max_colwidth', None)\n",
        "pd.set_option('display.max_columns', None)\n",
        "pd.set_option('display.max_rows', None)"
      ],
      "metadata": {
        "id": "_rPBgF5Zr0bZ"
      },
      "execution_count": null,
      "outputs": []
    },
    {
      "cell_type": "code",
      "source": [
        "!pip install google-play-scraper"
      ],
      "metadata": {
        "id": "4MVwI6junU5F"
      },
      "execution_count": null,
      "outputs": []
    },
    {
      "cell_type": "code",
      "source": [
        "from google_play_scraper import Sort, reviews_all\n",
        "import pandas as pd\n",
        "\n",
        "# Scrape reviews from the LinkedIn app\n",
        "result = reviews_all(\n",
        "    'com.linkedin.android',\n",
        "    sleep_milliseconds=0,  # defaults to 0\n",
        "    lang='en',              # defaults to 'en'\n",
        "    country='sg',          # defaults to 'us'\n",
        "    sort=Sort.NEWEST,      # defaults to Sort.MOST_RELEVANT\n",
        ")\n",
        "\n",
        "# Create a DataFrame\n",
        "df = pd.DataFrame(result)\n",
        "\n",
        "# Save to CSV with escape character and quote character\n",
        "df.to_csv('linkedin_reviews_singapore.csv', index=False, escapechar='\\\\', quoting=1)  # quoting=1 corresponds to QUOTE_ALL"
      ],
      "metadata": {
        "id": "8fZZ3aRenX1E"
      },
      "execution_count": null,
      "outputs": []
    },
    {
      "cell_type": "code",
      "source": [
        "len(df)"
      ],
      "metadata": {
        "id": "enmaeqx4q090"
      },
      "execution_count": null,
      "outputs": []
    },
    {
      "cell_type": "code",
      "source": [
        "# limit 10.000 data and resave to csv\n",
        "df_limited = df.head(10000)\n",
        "df_limited.to_csv('linkedin_reviews_singapore_limited.csv', index=False, escapechar='\\\\', quoting=1)"
      ],
      "metadata": {
        "id": "i2DvZ8k0q8BR"
      },
      "execution_count": null,
      "outputs": []
    },
    {
      "cell_type": "code",
      "source": [
        "df.head(10000)"
      ],
      "metadata": {
        "id": "Z_C717gwrvyz"
      },
      "execution_count": null,
      "outputs": []
    }
  ]
}